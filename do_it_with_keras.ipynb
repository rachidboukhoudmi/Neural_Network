{
 "cells": [
  {
   "cell_type": "code",
   "execution_count": 23,
   "metadata": {},
   "outputs": [],
   "source": [
    "import pandas as pd \n",
    "import numpy as np\n",
    "import matplotlib.pyplot as plt\n",
    "from sklearn.model_selection import train_test_split\n",
    "from keras.models import Sequential\n",
    "from keras import layers\n",
    "\n"
   ]
  },
  {
   "cell_type": "code",
   "execution_count": 24,
   "metadata": {},
   "outputs": [
    {
     "data": {
      "text/html": [
       "<div>\n",
       "<style scoped>\n",
       "    .dataframe tbody tr th:only-of-type {\n",
       "        vertical-align: middle;\n",
       "    }\n",
       "\n",
       "    .dataframe tbody tr th {\n",
       "        vertical-align: top;\n",
       "    }\n",
       "\n",
       "    .dataframe thead th {\n",
       "        text-align: right;\n",
       "    }\n",
       "</style>\n",
       "<table border=\"1\" class=\"dataframe\">\n",
       "  <thead>\n",
       "    <tr style=\"text-align: right;\">\n",
       "      <th></th>\n",
       "      <th>Pregnancies</th>\n",
       "      <th>Glucose</th>\n",
       "      <th>BloodPressure</th>\n",
       "      <th>SkinThickness</th>\n",
       "      <th>Insulin</th>\n",
       "      <th>BMI</th>\n",
       "      <th>DiabetesPedigreeFunction</th>\n",
       "      <th>Age</th>\n",
       "      <th>Outcome</th>\n",
       "    </tr>\n",
       "  </thead>\n",
       "  <tbody>\n",
       "    <tr>\n",
       "      <th>0</th>\n",
       "      <td>6</td>\n",
       "      <td>148</td>\n",
       "      <td>72</td>\n",
       "      <td>35</td>\n",
       "      <td>0</td>\n",
       "      <td>33.6</td>\n",
       "      <td>0.627</td>\n",
       "      <td>50</td>\n",
       "      <td>1</td>\n",
       "    </tr>\n",
       "    <tr>\n",
       "      <th>1</th>\n",
       "      <td>1</td>\n",
       "      <td>85</td>\n",
       "      <td>66</td>\n",
       "      <td>29</td>\n",
       "      <td>0</td>\n",
       "      <td>26.6</td>\n",
       "      <td>0.351</td>\n",
       "      <td>31</td>\n",
       "      <td>0</td>\n",
       "    </tr>\n",
       "    <tr>\n",
       "      <th>2</th>\n",
       "      <td>8</td>\n",
       "      <td>183</td>\n",
       "      <td>64</td>\n",
       "      <td>0</td>\n",
       "      <td>0</td>\n",
       "      <td>23.3</td>\n",
       "      <td>0.672</td>\n",
       "      <td>32</td>\n",
       "      <td>1</td>\n",
       "    </tr>\n",
       "    <tr>\n",
       "      <th>3</th>\n",
       "      <td>1</td>\n",
       "      <td>89</td>\n",
       "      <td>66</td>\n",
       "      <td>23</td>\n",
       "      <td>94</td>\n",
       "      <td>28.1</td>\n",
       "      <td>0.167</td>\n",
       "      <td>21</td>\n",
       "      <td>0</td>\n",
       "    </tr>\n",
       "    <tr>\n",
       "      <th>4</th>\n",
       "      <td>0</td>\n",
       "      <td>137</td>\n",
       "      <td>40</td>\n",
       "      <td>35</td>\n",
       "      <td>168</td>\n",
       "      <td>43.1</td>\n",
       "      <td>2.288</td>\n",
       "      <td>33</td>\n",
       "      <td>1</td>\n",
       "    </tr>\n",
       "  </tbody>\n",
       "</table>\n",
       "</div>"
      ],
      "text/plain": [
       "   Pregnancies  Glucose  BloodPressure  SkinThickness  Insulin   BMI  \\\n",
       "0            6      148             72             35        0  33.6   \n",
       "1            1       85             66             29        0  26.6   \n",
       "2            8      183             64              0        0  23.3   \n",
       "3            1       89             66             23       94  28.1   \n",
       "4            0      137             40             35      168  43.1   \n",
       "\n",
       "   DiabetesPedigreeFunction  Age  Outcome  \n",
       "0                     0.627   50        1  \n",
       "1                     0.351   31        0  \n",
       "2                     0.672   32        1  \n",
       "3                     0.167   21        0  \n",
       "4                     2.288   33        1  "
      ]
     },
     "execution_count": 24,
     "metadata": {},
     "output_type": "execute_result"
    }
   ],
   "source": [
    "data = pd.read_csv('diabetes2.csv')\n",
    "data.head()"
   ]
  },
  {
   "cell_type": "code",
   "execution_count": 25,
   "metadata": {},
   "outputs": [
    {
     "name": "stdout",
     "output_type": "stream",
     "text": [
      "(768, 8)\n",
      "(768,)\n"
     ]
    }
   ],
   "source": [
    "x = data[['Glucose','Age','Pregnancies','BloodPressure','SkinThickness','Insulin','BMI','DiabetesPedigreeFunction']].values\n",
    "y = data['Outcome'].values\n",
    "\n",
    "print(x.shape)\n",
    "print(y.shape)"
   ]
  },
  {
   "cell_type": "code",
   "execution_count": 26,
   "metadata": {},
   "outputs": [],
   "source": [
    "# Feature Scaling using z score\n",
    "\n",
    "x_scaled  = x-np.mean(x,axis=0)\n",
    "x = x_scaled / np.std(x_scaled , axis= 0)"
   ]
  },
  {
   "cell_type": "code",
   "execution_count": 27,
   "metadata": {},
   "outputs": [
    {
     "data": {
      "text/plain": [
       "<matplotlib.legend.Legend at 0x1d8fcec53d0>"
      ]
     },
     "execution_count": 27,
     "metadata": {},
     "output_type": "execute_result"
    },
    {
     "data": {
      "image/png": "[encoded data removed]",
      "text/plain": [
       "<Figure size 1000x600 with 1 Axes>"
      ]
     },
     "metadata": {},
     "output_type": "display_data"
    }
   ],
   "source": [
    "plt.figure(figsize=(10,6))\n",
    "plt.scatter( x[ y == 0][:,0] , x[ y== 0 ][:,1] , color ='b' , label = '0')\n",
    "plt.scatter( x[ y == 1][:,0] , x[ y== 1 ][:,1] , color ='r' , label = '1')\n",
    "plt.xlabel('Glucose')\n",
    "plt.ylabel('Age')\n",
    "plt.legend()"
   ]
  },
  {
   "cell_type": "code",
   "execution_count": 28,
   "metadata": {},
   "outputs": [
    {
     "name": "stdout",
     "output_type": "stream",
     "text": [
      "614\n",
      "154\n"
     ]
    }
   ],
   "source": [
    "\n",
    "x_train , x_test ,y_train,y_test = train_test_split( x , y , test_size=0.2 , random_state=42 )\n",
    "print(len(x_train))\n",
    "print(len(x_test))"
   ]
  },
  {
   "cell_type": "code",
   "execution_count": 29,
   "metadata": {},
   "outputs": [
    {
     "name": "stderr",
     "output_type": "stream",
     "text": [
      "c:\\Users\\HP\\anaconda3\\Lib\\site-packages\\keras\\src\\layers\\core\\dense.py:87: UserWarning: Do not pass an `input_shape`/`input_dim` argument to a layer. When using Sequential models, prefer using an `Input(shape)` object as the first layer in the model instead.\n",
      "  super().__init__(activity_regularizer=activity_regularizer, **kwargs)\n"
     ]
    },
    {
     "data": {
      "text/html": [
       "<pre style=\"white-space:pre;overflow-x:auto;line-height:normal;font-family:Menlo,'DejaVu Sans Mono',consolas,'Courier New',monospace\"><span style=\"font-weight: bold\">Model: \"sequential\"</span>\n",
       "</pre>\n"
      ],
      "text/plain": [
       "\u001b[1mModel: \"sequential\"\u001b[0m\n"
      ]
     },
     "metadata": {},
     "output_type": "display_data"
    },
    {
     "data": {
      "text/html": [
       "<pre style=\"white-space:pre;overflow-x:auto;line-height:normal;font-family:Menlo,'DejaVu Sans Mono',consolas,'Courier New',monospace\">┏━━━━━━━━━━━━━━━━━━━━━━━━━━━━━━━━━┳━━━━━━━━━━━━━━━━━━━━━━━━┳━━━━━━━━━━━━━━━┓\n",
       "┃<span style=\"font-weight: bold\"> Layer (type)                    </span>┃<span style=\"font-weight: bold\"> Output Shape           </span>┃<span style=\"font-weight: bold\">       Param # </span>┃\n",
       "┡━━━━━━━━━━━━━━━━━━━━━━━━━━━━━━━━━╇━━━━━━━━━━━━━━━━━━━━━━━━╇━━━━━━━━━━━━━━━┩\n",
       "│ layer1 (<span style=\"color: #0087ff; text-decoration-color: #0087ff\">Dense</span>)                  │ (<span style=\"color: #00d7ff; text-decoration-color: #00d7ff\">None</span>, <span style=\"color: #00af00; text-decoration-color: #00af00\">4</span>)              │            <span style=\"color: #00af00; text-decoration-color: #00af00\">36</span> │\n",
       "├─────────────────────────────────┼────────────────────────┼───────────────┤\n",
       "│ layer2 (<span style=\"color: #0087ff; text-decoration-color: #0087ff\">Dense</span>)                  │ (<span style=\"color: #00d7ff; text-decoration-color: #00d7ff\">None</span>, <span style=\"color: #00af00; text-decoration-color: #00af00\">3</span>)              │            <span style=\"color: #00af00; text-decoration-color: #00af00\">15</span> │\n",
       "├─────────────────────────────────┼────────────────────────┼───────────────┤\n",
       "│ Output_layer (<span style=\"color: #0087ff; text-decoration-color: #0087ff\">Dense</span>)            │ (<span style=\"color: #00d7ff; text-decoration-color: #00d7ff\">None</span>, <span style=\"color: #00af00; text-decoration-color: #00af00\">1</span>)              │             <span style=\"color: #00af00; text-decoration-color: #00af00\">4</span> │\n",
       "└─────────────────────────────────┴────────────────────────┴───────────────┘\n",
       "</pre>\n"
      ],
      "text/plain": [
       "┏━━━━━━━━━━━━━━━━━━━━━━━━━━━━━━━━━┳━━━━━━━━━━━━━━━━━━━━━━━━┳━━━━━━━━━━━━━━━┓\n",
       "┃\u001b[1m \u001b[0m\u001b[1mLayer (type)                   \u001b[0m\u001b[1m \u001b[0m┃\u001b[1m \u001b[0m\u001b[1mOutput Shape          \u001b[0m\u001b[1m \u001b[0m┃\u001b[1m \u001b[0m\u001b[1m      Param #\u001b[0m\u001b[1m \u001b[0m┃\n",
       "┡━━━━━━━━━━━━━━━━━━━━━━━━━━━━━━━━━╇━━━━━━━━━━━━━━━━━━━━━━━━╇━━━━━━━━━━━━━━━┩\n",
       "│ layer1 (\u001b[38;5;33mDense\u001b[0m)                  │ (\u001b[38;5;45mNone\u001b[0m, \u001b[38;5;34m4\u001b[0m)              │            \u001b[38;5;34m36\u001b[0m │\n",
       "├─────────────────────────────────┼────────────────────────┼───────────────┤\n",
       "│ layer2 (\u001b[38;5;33mDense\u001b[0m)                  │ (\u001b[38;5;45mNone\u001b[0m, \u001b[38;5;34m3\u001b[0m)              │            \u001b[38;5;34m15\u001b[0m │\n",
       "├─────────────────────────────────┼────────────────────────┼───────────────┤\n",
       "│ Output_layer (\u001b[38;5;33mDense\u001b[0m)            │ (\u001b[38;5;45mNone\u001b[0m, \u001b[38;5;34m1\u001b[0m)              │             \u001b[38;5;34m4\u001b[0m │\n",
       "└─────────────────────────────────┴────────────────────────┴───────────────┘\n"
      ]
     },
     "metadata": {},
     "output_type": "display_data"
    },
    {
     "data": {
      "text/html": [
       "<pre style=\"white-space:pre;overflow-x:auto;line-height:normal;font-family:Menlo,'DejaVu Sans Mono',consolas,'Courier New',monospace\"><span style=\"font-weight: bold\"> Total params: </span><span style=\"color: #00af00; text-decoration-color: #00af00\">55</span> (220.00 B)\n",
       "</pre>\n"
      ],
      "text/plain": [
       "\u001b[1m Total params: \u001b[0m\u001b[38;5;34m55\u001b[0m (220.00 B)\n"
      ]
     },
     "metadata": {},
     "output_type": "display_data"
    },
    {
     "data": {
      "text/html": [
       "<pre style=\"white-space:pre;overflow-x:auto;line-height:normal;font-family:Menlo,'DejaVu Sans Mono',consolas,'Courier New',monospace\"><span style=\"font-weight: bold\"> Trainable params: </span><span style=\"color: #00af00; text-decoration-color: #00af00\">55</span> (220.00 B)\n",
       "</pre>\n"
      ],
      "text/plain": [
       "\u001b[1m Trainable params: \u001b[0m\u001b[38;5;34m55\u001b[0m (220.00 B)\n"
      ]
     },
     "metadata": {},
     "output_type": "display_data"
    },
    {
     "data": {
      "text/html": [
       "<pre style=\"white-space:pre;overflow-x:auto;line-height:normal;font-family:Menlo,'DejaVu Sans Mono',consolas,'Courier New',monospace\"><span style=\"font-weight: bold\"> Non-trainable params: </span><span style=\"color: #00af00; text-decoration-color: #00af00\">0</span> (0.00 B)\n",
       "</pre>\n"
      ],
      "text/plain": [
       "\u001b[1m Non-trainable params: \u001b[0m\u001b[38;5;34m0\u001b[0m (0.00 B)\n"
      ]
     },
     "metadata": {},
     "output_type": "display_data"
    }
   ],
   "source": [
    "input_dim = x_train.shape[1]\n",
    "\n",
    "model = Sequential()\n",
    "model.add(layers.Dense( 4 , input_dim = input_dim , activation='relu' , name = 'layer1'))\n",
    "model.add(layers.Dense( 3, activation = 'relu' , name = 'layer2'))\n",
    "model.add(layers.Dense(1 , activation= 'sigmoid' , name = 'Output_layer'))\n",
    "\n",
    "model.summary()"
   ]
  },
  {
   "cell_type": "code",
   "execution_count": 36,
   "metadata": {},
   "outputs": [],
   "source": [
    "#compile the model\n",
    "import tensorflow as tf\n",
    "\n",
    "#model.compile(loss='binary_crossentropy', optimizer='sgd',  metrics=['accuracy'])\n",
    "\n",
    "model.compile(loss='binary_crossentropy', optimizer='sgd',  metrics=['accuracy', tf.keras.metrics.Precision(),tf.keras.metrics.Recall()])"
   ]
  },
  {
   "cell_type": "code",
   "execution_count": 37,
   "metadata": {},
   "outputs": [
    {
     "name": "stdout",
     "output_type": "stream",
     "text": [
      "Epoch 1/100\n",
      "18/18 - 4s - 241ms/step - accuracy: 0.7609 - loss: 0.5267 - precision: 0.7295 - recall: 0.4734 - val_accuracy: 0.7097 - val_loss: 0.5320 - val_precision: 0.6842 - val_recall: 0.5200\n",
      "Epoch 2/100\n",
      "18/18 - 0s - 11ms/step - accuracy: 0.7591 - loss: 0.5263 - precision: 0.7236 - recall: 0.4734 - val_accuracy: 0.7097 - val_loss: 0.5319 - val_precision: 0.6842 - val_recall: 0.5200\n",
      "Epoch 3/100\n",
      "18/18 - 0s - 14ms/step - accuracy: 0.7591 - loss: 0.5257 - precision: 0.7236 - recall: 0.4734 - val_accuracy: 0.7097 - val_loss: 0.5317 - val_precision: 0.6842 - val_recall: 0.5200\n",
      "Epoch 4/100\n",
      "18/18 - 0s - 14ms/step - accuracy: 0.7572 - loss: 0.5253 - precision: 0.7177 - recall: 0.4734 - val_accuracy: 0.7258 - val_loss: 0.5320 - val_precision: 0.7222 - val_recall: 0.5200\n",
      "Epoch 5/100\n",
      "18/18 - 0s - 8ms/step - accuracy: 0.7572 - loss: 0.5248 - precision: 0.7177 - recall: 0.4734 - val_accuracy: 0.7258 - val_loss: 0.5318 - val_precision: 0.7222 - val_recall: 0.5200\n",
      "Epoch 6/100\n",
      "18/18 - 0s - 8ms/step - accuracy: 0.7554 - loss: 0.5243 - precision: 0.7154 - recall: 0.4681 - val_accuracy: 0.7258 - val_loss: 0.5314 - val_precision: 0.7222 - val_recall: 0.5200\n",
      "Epoch 7/100\n",
      "18/18 - 0s - 12ms/step - accuracy: 0.7554 - loss: 0.5237 - precision: 0.7154 - recall: 0.4681 - val_accuracy: 0.7097 - val_loss: 0.5309 - val_precision: 0.6842 - val_recall: 0.5200\n",
      "Epoch 8/100\n",
      "18/18 - 0s - 12ms/step - accuracy: 0.7572 - loss: 0.5234 - precision: 0.7177 - recall: 0.4734 - val_accuracy: 0.6935 - val_loss: 0.5305 - val_precision: 0.6500 - val_recall: 0.5200\n",
      "Epoch 9/100\n",
      "18/18 - 0s - 12ms/step - accuracy: 0.7572 - loss: 0.5230 - precision: 0.7177 - recall: 0.4734 - val_accuracy: 0.6935 - val_loss: 0.5303 - val_precision: 0.6500 - val_recall: 0.5200\n",
      "Epoch 10/100\n",
      "18/18 - 0s - 18ms/step - accuracy: 0.7572 - loss: 0.5224 - precision: 0.7177 - recall: 0.4734 - val_accuracy: 0.6935 - val_loss: 0.5301 - val_precision: 0.6500 - val_recall: 0.5200\n",
      "Epoch 11/100\n",
      "18/18 - 0s - 10ms/step - accuracy: 0.7572 - loss: 0.5220 - precision: 0.7177 - recall: 0.4734 - val_accuracy: 0.6935 - val_loss: 0.5293 - val_precision: 0.6500 - val_recall: 0.5200\n",
      "Epoch 12/100\n",
      "18/18 - 0s - 20ms/step - accuracy: 0.7609 - loss: 0.5216 - precision: 0.7222 - recall: 0.4840 - val_accuracy: 0.6935 - val_loss: 0.5289 - val_precision: 0.6500 - val_recall: 0.5200\n",
      "Epoch 13/100\n",
      "18/18 - 0s - 12ms/step - accuracy: 0.7609 - loss: 0.5213 - precision: 0.7222 - recall: 0.4840 - val_accuracy: 0.6935 - val_loss: 0.5286 - val_precision: 0.6500 - val_recall: 0.5200\n",
      "Epoch 14/100\n",
      "18/18 - 0s - 21ms/step - accuracy: 0.7609 - loss: 0.5207 - precision: 0.7222 - recall: 0.4840 - val_accuracy: 0.6774 - val_loss: 0.5288 - val_precision: 0.6316 - val_recall: 0.4800\n",
      "Epoch 15/100\n",
      "18/18 - 0s - 21ms/step - accuracy: 0.7609 - loss: 0.5203 - precision: 0.7222 - recall: 0.4840 - val_accuracy: 0.6935 - val_loss: 0.5291 - val_precision: 0.6667 - val_recall: 0.4800\n",
      "Epoch 16/100\n",
      "18/18 - 0s - 22ms/step - accuracy: 0.7609 - loss: 0.5199 - precision: 0.7222 - recall: 0.4840 - val_accuracy: 0.7097 - val_loss: 0.5291 - val_precision: 0.7059 - val_recall: 0.4800\n",
      "Epoch 17/100\n",
      "18/18 - 0s - 21ms/step - accuracy: 0.7627 - loss: 0.5196 - precision: 0.7280 - recall: 0.4840 - val_accuracy: 0.7097 - val_loss: 0.5290 - val_precision: 0.7059 - val_recall: 0.4800\n",
      "Epoch 18/100\n",
      "18/18 - 0s - 22ms/step - accuracy: 0.7645 - loss: 0.5193 - precision: 0.7302 - recall: 0.4894 - val_accuracy: 0.6935 - val_loss: 0.5286 - val_precision: 0.6667 - val_recall: 0.4800\n",
      "Epoch 19/100\n",
      "18/18 - 0s - 25ms/step - accuracy: 0.7627 - loss: 0.5187 - precision: 0.7244 - recall: 0.4894 - val_accuracy: 0.6935 - val_loss: 0.5285 - val_precision: 0.6667 - val_recall: 0.4800\n",
      "Epoch 20/100\n",
      "18/18 - 0s - 12ms/step - accuracy: 0.7645 - loss: 0.5183 - precision: 0.7302 - recall: 0.4894 - val_accuracy: 0.6935 - val_loss: 0.5284 - val_precision: 0.6667 - val_recall: 0.4800\n",
      "Epoch 21/100\n",
      "18/18 - 0s - 19ms/step - accuracy: 0.7663 - loss: 0.5178 - precision: 0.7360 - recall: 0.4894 - val_accuracy: 0.6935 - val_loss: 0.5280 - val_precision: 0.6667 - val_recall: 0.4800\n",
      "Epoch 22/100\n",
      "18/18 - 0s - 8ms/step - accuracy: 0.7663 - loss: 0.5173 - precision: 0.7360 - recall: 0.4894 - val_accuracy: 0.6935 - val_loss: 0.5280 - val_precision: 0.6667 - val_recall: 0.4800\n",
      "Epoch 23/100\n",
      "18/18 - 0s - 9ms/step - accuracy: 0.7663 - loss: 0.5171 - precision: 0.7360 - recall: 0.4894 - val_accuracy: 0.6935 - val_loss: 0.5278 - val_precision: 0.6667 - val_recall: 0.4800\n",
      "Epoch 24/100\n",
      "18/18 - 0s - 14ms/step - accuracy: 0.7663 - loss: 0.5165 - precision: 0.7360 - recall: 0.4894 - val_accuracy: 0.6935 - val_loss: 0.5273 - val_precision: 0.6667 - val_recall: 0.4800\n",
      "Epoch 25/100\n",
      "18/18 - 0s - 8ms/step - accuracy: 0.7681 - loss: 0.5161 - precision: 0.7381 - recall: 0.4947 - val_accuracy: 0.6935 - val_loss: 0.5269 - val_precision: 0.6667 - val_recall: 0.4800\n",
      "Epoch 26/100\n",
      "18/18 - 0s - 15ms/step - accuracy: 0.7681 - loss: 0.5156 - precision: 0.7381 - recall: 0.4947 - val_accuracy: 0.6935 - val_loss: 0.5266 - val_precision: 0.6667 - val_recall: 0.4800\n",
      "Epoch 27/100\n",
      "18/18 - 0s - 8ms/step - accuracy: 0.7699 - loss: 0.5152 - precision: 0.7402 - recall: 0.5000 - val_accuracy: 0.6935 - val_loss: 0.5269 - val_precision: 0.6667 - val_recall: 0.4800\n",
      "Epoch 28/100\n",
      "18/18 - 0s - 19ms/step - accuracy: 0.7681 - loss: 0.5147 - precision: 0.7381 - recall: 0.4947 - val_accuracy: 0.6935 - val_loss: 0.5267 - val_precision: 0.6667 - val_recall: 0.4800\n",
      "Epoch 29/100\n",
      "18/18 - 0s - 19ms/step - accuracy: 0.7681 - loss: 0.5145 - precision: 0.7381 - recall: 0.4947 - val_accuracy: 0.6935 - val_loss: 0.5268 - val_precision: 0.6667 - val_recall: 0.4800\n",
      "Epoch 30/100\n",
      "18/18 - 0s - 21ms/step - accuracy: 0.7699 - loss: 0.5140 - precision: 0.7402 - recall: 0.5000 - val_accuracy: 0.6935 - val_loss: 0.5268 - val_precision: 0.6667 - val_recall: 0.4800\n",
      "Epoch 31/100\n",
      "18/18 - 0s - 20ms/step - accuracy: 0.7681 - loss: 0.5136 - precision: 0.7381 - recall: 0.4947 - val_accuracy: 0.6935 - val_loss: 0.5267 - val_precision: 0.6667 - val_recall: 0.4800\n",
      "Epoch 32/100\n",
      "18/18 - 0s - 20ms/step - accuracy: 0.7699 - loss: 0.5133 - precision: 0.7402 - recall: 0.5000 - val_accuracy: 0.6935 - val_loss: 0.5267 - val_precision: 0.6667 - val_recall: 0.4800\n",
      "Epoch 33/100\n",
      "18/18 - 1s - 34ms/step - accuracy: 0.7681 - loss: 0.5129 - precision: 0.7381 - recall: 0.4947 - val_accuracy: 0.6935 - val_loss: 0.5263 - val_precision: 0.6667 - val_recall: 0.4800\n",
      "Epoch 34/100\n",
      "18/18 - 0s - 18ms/step - accuracy: 0.7699 - loss: 0.5124 - precision: 0.7402 - recall: 0.5000 - val_accuracy: 0.6935 - val_loss: 0.5264 - val_precision: 0.6667 - val_recall: 0.4800\n",
      "Epoch 35/100\n",
      "18/18 - 0s - 18ms/step - accuracy: 0.7699 - loss: 0.5120 - precision: 0.7402 - recall: 0.5000 - val_accuracy: 0.6935 - val_loss: 0.5256 - val_precision: 0.6667 - val_recall: 0.4800\n",
      "Epoch 36/100\n",
      "18/18 - 0s - 17ms/step - accuracy: 0.7699 - loss: 0.5116 - precision: 0.7402 - recall: 0.5000 - val_accuracy: 0.6935 - val_loss: 0.5256 - val_precision: 0.6667 - val_recall: 0.4800\n",
      "Epoch 37/100\n",
      "18/18 - 0s - 19ms/step - accuracy: 0.7736 - loss: 0.5113 - precision: 0.7442 - recall: 0.5106 - val_accuracy: 0.6935 - val_loss: 0.5254 - val_precision: 0.6667 - val_recall: 0.4800\n",
      "Epoch 38/100\n",
      "18/18 - 0s - 12ms/step - accuracy: 0.7699 - loss: 0.5110 - precision: 0.7402 - recall: 0.5000 - val_accuracy: 0.6935 - val_loss: 0.5256 - val_precision: 0.6667 - val_recall: 0.4800\n",
      "Epoch 39/100\n",
      "18/18 - 0s - 16ms/step - accuracy: 0.7699 - loss: 0.5105 - precision: 0.7402 - recall: 0.5000 - val_accuracy: 0.6935 - val_loss: 0.5253 - val_precision: 0.6667 - val_recall: 0.4800\n",
      "Epoch 40/100\n",
      "18/18 - 0s - 11ms/step - accuracy: 0.7717 - loss: 0.5101 - precision: 0.7422 - recall: 0.5053 - val_accuracy: 0.6935 - val_loss: 0.5252 - val_precision: 0.6667 - val_recall: 0.4800\n",
      "Epoch 41/100\n",
      "18/18 - 0s - 8ms/step - accuracy: 0.7699 - loss: 0.5098 - precision: 0.7402 - recall: 0.5000 - val_accuracy: 0.6935 - val_loss: 0.5247 - val_precision: 0.6667 - val_recall: 0.4800\n",
      "Epoch 42/100\n",
      "18/18 - 0s - 16ms/step - accuracy: 0.7699 - loss: 0.5094 - precision: 0.7402 - recall: 0.5000 - val_accuracy: 0.6935 - val_loss: 0.5244 - val_precision: 0.6667 - val_recall: 0.4800\n",
      "Epoch 43/100\n",
      "18/18 - 0s - 13ms/step - accuracy: 0.7717 - loss: 0.5090 - precision: 0.7422 - recall: 0.5053 - val_accuracy: 0.7097 - val_loss: 0.5241 - val_precision: 0.6842 - val_recall: 0.5200\n",
      "Epoch 44/100\n",
      "18/18 - 0s - 13ms/step - accuracy: 0.7754 - loss: 0.5086 - precision: 0.7462 - recall: 0.5160 - val_accuracy: 0.7258 - val_loss: 0.5241 - val_precision: 0.7222 - val_recall: 0.5200\n",
      "Epoch 45/100\n",
      "18/18 - 0s - 16ms/step - accuracy: 0.7736 - loss: 0.5082 - precision: 0.7442 - recall: 0.5106 - val_accuracy: 0.7258 - val_loss: 0.5242 - val_precision: 0.7222 - val_recall: 0.5200\n",
      "Epoch 46/100\n",
      "18/18 - 0s - 20ms/step - accuracy: 0.7736 - loss: 0.5079 - precision: 0.7442 - recall: 0.5106 - val_accuracy: 0.7258 - val_loss: 0.5239 - val_precision: 0.7222 - val_recall: 0.5200\n",
      "Epoch 47/100\n",
      "18/18 - 0s - 21ms/step - accuracy: 0.7754 - loss: 0.5074 - precision: 0.7462 - recall: 0.5160 - val_accuracy: 0.7258 - val_loss: 0.5237 - val_precision: 0.7222 - val_recall: 0.5200\n",
      "Epoch 48/100\n",
      "18/18 - 0s - 10ms/step - accuracy: 0.7736 - loss: 0.5069 - precision: 0.7442 - recall: 0.5106 - val_accuracy: 0.7258 - val_loss: 0.5236 - val_precision: 0.7222 - val_recall: 0.5200\n",
      "Epoch 49/100\n",
      "18/18 - 0s - 21ms/step - accuracy: 0.7754 - loss: 0.5066 - precision: 0.7462 - recall: 0.5160 - val_accuracy: 0.7258 - val_loss: 0.5232 - val_precision: 0.7222 - val_recall: 0.5200\n",
      "Epoch 50/100\n",
      "18/18 - 0s - 22ms/step - accuracy: 0.7754 - loss: 0.5062 - precision: 0.7462 - recall: 0.5160 - val_accuracy: 0.7258 - val_loss: 0.5232 - val_precision: 0.7222 - val_recall: 0.5200\n",
      "Epoch 51/100\n",
      "18/18 - 0s - 20ms/step - accuracy: 0.7754 - loss: 0.5058 - precision: 0.7462 - recall: 0.5160 - val_accuracy: 0.7258 - val_loss: 0.5234 - val_precision: 0.7222 - val_recall: 0.5200\n",
      "Epoch 52/100\n",
      "18/18 - 0s - 17ms/step - accuracy: 0.7754 - loss: 0.5055 - precision: 0.7462 - recall: 0.5160 - val_accuracy: 0.7258 - val_loss: 0.5227 - val_precision: 0.7222 - val_recall: 0.5200\n",
      "Epoch 53/100\n",
      "18/18 - 0s - 19ms/step - accuracy: 0.7772 - loss: 0.5051 - precision: 0.7481 - recall: 0.5213 - val_accuracy: 0.7258 - val_loss: 0.5227 - val_precision: 0.7222 - val_recall: 0.5200\n",
      "Epoch 54/100\n",
      "18/18 - 0s - 17ms/step - accuracy: 0.7754 - loss: 0.5046 - precision: 0.7462 - recall: 0.5160 - val_accuracy: 0.7258 - val_loss: 0.5222 - val_precision: 0.7222 - val_recall: 0.5200\n",
      "Epoch 55/100\n",
      "18/18 - 0s - 14ms/step - accuracy: 0.7772 - loss: 0.5043 - precision: 0.7481 - recall: 0.5213 - val_accuracy: 0.7258 - val_loss: 0.5224 - val_precision: 0.7222 - val_recall: 0.5200\n",
      "Epoch 56/100\n",
      "18/18 - 0s - 17ms/step - accuracy: 0.7772 - loss: 0.5038 - precision: 0.7519 - recall: 0.5160 - val_accuracy: 0.7258 - val_loss: 0.5226 - val_precision: 0.7222 - val_recall: 0.5200\n",
      "Epoch 57/100\n",
      "18/18 - 0s - 12ms/step - accuracy: 0.7772 - loss: 0.5034 - precision: 0.7519 - recall: 0.5160 - val_accuracy: 0.7258 - val_loss: 0.5224 - val_precision: 0.7222 - val_recall: 0.5200\n",
      "Epoch 58/100\n",
      "18/18 - 0s - 14ms/step - accuracy: 0.7772 - loss: 0.5030 - precision: 0.7519 - recall: 0.5160 - val_accuracy: 0.7258 - val_loss: 0.5226 - val_precision: 0.7222 - val_recall: 0.5200\n",
      "Epoch 59/100\n",
      "18/18 - 0s - 14ms/step - accuracy: 0.7772 - loss: 0.5025 - precision: 0.7519 - recall: 0.5160 - val_accuracy: 0.7258 - val_loss: 0.5224 - val_precision: 0.7222 - val_recall: 0.5200\n",
      "Epoch 60/100\n",
      "18/18 - 0s - 17ms/step - accuracy: 0.7772 - loss: 0.5021 - precision: 0.7519 - recall: 0.5160 - val_accuracy: 0.7258 - val_loss: 0.5218 - val_precision: 0.7222 - val_recall: 0.5200\n",
      "Epoch 61/100\n",
      "18/18 - 0s - 21ms/step - accuracy: 0.7772 - loss: 0.5016 - precision: 0.7519 - recall: 0.5160 - val_accuracy: 0.7258 - val_loss: 0.5215 - val_precision: 0.7222 - val_recall: 0.5200\n",
      "Epoch 62/100\n",
      "18/18 - 0s - 7ms/step - accuracy: 0.7754 - loss: 0.5012 - precision: 0.7500 - recall: 0.5106 - val_accuracy: 0.7258 - val_loss: 0.5211 - val_precision: 0.7222 - val_recall: 0.5200\n",
      "Epoch 63/100\n",
      "18/18 - 0s - 17ms/step - accuracy: 0.7772 - loss: 0.5008 - precision: 0.7519 - recall: 0.5160 - val_accuracy: 0.7258 - val_loss: 0.5210 - val_precision: 0.7222 - val_recall: 0.5200\n",
      "Epoch 64/100\n",
      "18/18 - 0s - 17ms/step - accuracy: 0.7772 - loss: 0.5004 - precision: 0.7519 - recall: 0.5160 - val_accuracy: 0.7258 - val_loss: 0.5207 - val_precision: 0.7222 - val_recall: 0.5200\n",
      "Epoch 65/100\n",
      "18/18 - 0s - 18ms/step - accuracy: 0.7790 - loss: 0.4999 - precision: 0.7538 - recall: 0.5213 - val_accuracy: 0.7258 - val_loss: 0.5203 - val_precision: 0.7222 - val_recall: 0.5200\n",
      "Epoch 66/100\n",
      "18/18 - 0s - 18ms/step - accuracy: 0.7772 - loss: 0.4995 - precision: 0.7519 - recall: 0.5160 - val_accuracy: 0.7258 - val_loss: 0.5199 - val_precision: 0.7222 - val_recall: 0.5200\n",
      "Epoch 67/100\n",
      "18/18 - 0s - 17ms/step - accuracy: 0.7790 - loss: 0.4989 - precision: 0.7538 - recall: 0.5213 - val_accuracy: 0.7258 - val_loss: 0.5198 - val_precision: 0.7222 - val_recall: 0.5200\n",
      "Epoch 68/100\n",
      "18/18 - 0s - 21ms/step - accuracy: 0.7772 - loss: 0.4986 - precision: 0.7519 - recall: 0.5160 - val_accuracy: 0.7258 - val_loss: 0.5198 - val_precision: 0.7222 - val_recall: 0.5200\n",
      "Epoch 69/100\n",
      "18/18 - 0s - 9ms/step - accuracy: 0.7772 - loss: 0.4982 - precision: 0.7519 - recall: 0.5160 - val_accuracy: 0.7258 - val_loss: 0.5198 - val_precision: 0.7222 - val_recall: 0.5200\n",
      "Epoch 70/100\n",
      "18/18 - 0s - 20ms/step - accuracy: 0.7772 - loss: 0.4978 - precision: 0.7519 - recall: 0.5160 - val_accuracy: 0.7097 - val_loss: 0.5197 - val_precision: 0.7059 - val_recall: 0.4800\n",
      "Epoch 71/100\n",
      "18/18 - 0s - 15ms/step - accuracy: 0.7772 - loss: 0.4974 - precision: 0.7519 - recall: 0.5160 - val_accuracy: 0.7097 - val_loss: 0.5195 - val_precision: 0.7059 - val_recall: 0.4800\n",
      "Epoch 72/100\n",
      "18/18 - 0s - 10ms/step - accuracy: 0.7754 - loss: 0.4970 - precision: 0.7500 - recall: 0.5106 - val_accuracy: 0.7097 - val_loss: 0.5197 - val_precision: 0.7059 - val_recall: 0.4800\n",
      "Epoch 73/100\n",
      "18/18 - 0s - 12ms/step - accuracy: 0.7736 - loss: 0.4966 - precision: 0.7480 - recall: 0.5053 - val_accuracy: 0.7258 - val_loss: 0.5195 - val_precision: 0.7222 - val_recall: 0.5200\n",
      "Epoch 74/100\n",
      "18/18 - 0s - 13ms/step - accuracy: 0.7736 - loss: 0.4962 - precision: 0.7480 - recall: 0.5053 - val_accuracy: 0.7258 - val_loss: 0.5188 - val_precision: 0.7222 - val_recall: 0.5200\n",
      "Epoch 75/100\n",
      "18/18 - 0s - 10ms/step - accuracy: 0.7772 - loss: 0.4959 - precision: 0.7519 - recall: 0.5160 - val_accuracy: 0.7258 - val_loss: 0.5187 - val_precision: 0.7222 - val_recall: 0.5200\n",
      "Epoch 76/100\n",
      "18/18 - 0s - 12ms/step - accuracy: 0.7790 - loss: 0.4954 - precision: 0.7538 - recall: 0.5213 - val_accuracy: 0.7258 - val_loss: 0.5185 - val_precision: 0.7222 - val_recall: 0.5200\n",
      "Epoch 77/100\n",
      "18/18 - 0s - 21ms/step - accuracy: 0.7790 - loss: 0.4951 - precision: 0.7538 - recall: 0.5213 - val_accuracy: 0.7258 - val_loss: 0.5181 - val_precision: 0.7222 - val_recall: 0.5200\n",
      "Epoch 78/100\n",
      "18/18 - 0s - 21ms/step - accuracy: 0.7736 - loss: 0.4946 - precision: 0.7442 - recall: 0.5106 - val_accuracy: 0.7258 - val_loss: 0.5179 - val_precision: 0.7222 - val_recall: 0.5200\n",
      "Epoch 79/100\n",
      "18/18 - 0s - 18ms/step - accuracy: 0.7772 - loss: 0.4941 - precision: 0.7481 - recall: 0.5213 - val_accuracy: 0.7258 - val_loss: 0.5179 - val_precision: 0.7222 - val_recall: 0.5200\n",
      "Epoch 80/100\n",
      "18/18 - 0s - 18ms/step - accuracy: 0.7754 - loss: 0.4939 - precision: 0.7462 - recall: 0.5160 - val_accuracy: 0.7258 - val_loss: 0.5176 - val_precision: 0.7222 - val_recall: 0.5200\n",
      "Epoch 81/100\n",
      "18/18 - 0s - 14ms/step - accuracy: 0.7772 - loss: 0.4935 - precision: 0.7444 - recall: 0.5266 - val_accuracy: 0.7258 - val_loss: 0.5177 - val_precision: 0.7222 - val_recall: 0.5200\n",
      "Epoch 82/100\n",
      "18/18 - 0s - 20ms/step - accuracy: 0.7772 - loss: 0.4931 - precision: 0.7444 - recall: 0.5266 - val_accuracy: 0.7258 - val_loss: 0.5175 - val_precision: 0.7222 - val_recall: 0.5200\n",
      "Epoch 83/100\n",
      "18/18 - 0s - 9ms/step - accuracy: 0.7754 - loss: 0.4925 - precision: 0.7424 - recall: 0.5213 - val_accuracy: 0.7258 - val_loss: 0.5180 - val_precision: 0.7222 - val_recall: 0.5200\n",
      "Epoch 84/100\n",
      "18/18 - 0s - 18ms/step - accuracy: 0.7754 - loss: 0.4922 - precision: 0.7462 - recall: 0.5160 - val_accuracy: 0.7258 - val_loss: 0.5178 - val_precision: 0.7222 - val_recall: 0.5200\n",
      "Epoch 85/100\n",
      "18/18 - 0s - 7ms/step - accuracy: 0.7754 - loss: 0.4918 - precision: 0.7424 - recall: 0.5213 - val_accuracy: 0.7258 - val_loss: 0.5180 - val_precision: 0.7222 - val_recall: 0.5200\n",
      "Epoch 86/100\n",
      "18/18 - 0s - 8ms/step - accuracy: 0.7717 - loss: 0.4915 - precision: 0.7385 - recall: 0.5106 - val_accuracy: 0.7258 - val_loss: 0.5179 - val_precision: 0.7222 - val_recall: 0.5200\n",
      "Epoch 87/100\n",
      "18/18 - 0s - 18ms/step - accuracy: 0.7736 - loss: 0.4911 - precision: 0.7405 - recall: 0.5160 - val_accuracy: 0.7097 - val_loss: 0.5177 - val_precision: 0.6842 - val_recall: 0.5200\n",
      "Epoch 88/100\n",
      "18/18 - 0s - 15ms/step - accuracy: 0.7736 - loss: 0.4908 - precision: 0.7368 - recall: 0.5213 - val_accuracy: 0.7097 - val_loss: 0.5176 - val_precision: 0.6842 - val_recall: 0.5200\n",
      "Epoch 89/100\n",
      "18/18 - 0s - 8ms/step - accuracy: 0.7736 - loss: 0.4904 - precision: 0.7405 - recall: 0.5160 - val_accuracy: 0.7097 - val_loss: 0.5179 - val_precision: 0.6842 - val_recall: 0.5200\n",
      "Epoch 90/100\n",
      "18/18 - 0s - 9ms/step - accuracy: 0.7717 - loss: 0.4900 - precision: 0.7348 - recall: 0.5160 - val_accuracy: 0.7097 - val_loss: 0.5180 - val_precision: 0.6842 - val_recall: 0.5200\n",
      "Epoch 91/100\n",
      "18/18 - 0s - 14ms/step - accuracy: 0.7736 - loss: 0.4898 - precision: 0.7405 - recall: 0.5160 - val_accuracy: 0.7097 - val_loss: 0.5182 - val_precision: 0.6842 - val_recall: 0.5200\n",
      "Epoch 92/100\n",
      "18/18 - 0s - 21ms/step - accuracy: 0.7754 - loss: 0.4895 - precision: 0.7424 - recall: 0.5213 - val_accuracy: 0.7097 - val_loss: 0.5185 - val_precision: 0.6842 - val_recall: 0.5200\n",
      "Epoch 93/100\n",
      "18/18 - 0s - 13ms/step - accuracy: 0.7717 - loss: 0.4893 - precision: 0.7385 - recall: 0.5106 - val_accuracy: 0.7097 - val_loss: 0.5186 - val_precision: 0.6842 - val_recall: 0.5200\n",
      "Epoch 94/100\n",
      "18/18 - 0s - 8ms/step - accuracy: 0.7736 - loss: 0.4890 - precision: 0.7405 - recall: 0.5160 - val_accuracy: 0.7097 - val_loss: 0.5186 - val_precision: 0.6842 - val_recall: 0.5200\n",
      "Epoch 95/100\n",
      "18/18 - 0s - 20ms/step - accuracy: 0.7717 - loss: 0.4887 - precision: 0.7385 - recall: 0.5106 - val_accuracy: 0.7097 - val_loss: 0.5184 - val_precision: 0.6842 - val_recall: 0.5200\n",
      "Epoch 96/100\n",
      "18/18 - 0s - 22ms/step - accuracy: 0.7736 - loss: 0.4883 - precision: 0.7405 - recall: 0.5160 - val_accuracy: 0.7097 - val_loss: 0.5185 - val_precision: 0.6842 - val_recall: 0.5200\n",
      "Epoch 97/100\n",
      "18/18 - 0s - 12ms/step - accuracy: 0.7717 - loss: 0.4880 - precision: 0.7385 - recall: 0.5106 - val_accuracy: 0.7097 - val_loss: 0.5184 - val_precision: 0.6842 - val_recall: 0.5200\n",
      "Epoch 98/100\n",
      "18/18 - 0s - 18ms/step - accuracy: 0.7736 - loss: 0.4876 - precision: 0.7442 - recall: 0.5106 - val_accuracy: 0.7097 - val_loss: 0.5181 - val_precision: 0.6842 - val_recall: 0.5200\n",
      "Epoch 99/100\n",
      "18/18 - 0s - 18ms/step - accuracy: 0.7736 - loss: 0.4874 - precision: 0.7405 - recall: 0.5160 - val_accuracy: 0.7097 - val_loss: 0.5179 - val_precision: 0.6842 - val_recall: 0.5200\n",
      "Epoch 100/100\n",
      "18/18 - 0s - 19ms/step - accuracy: 0.7736 - loss: 0.4871 - precision: 0.7368 - recall: 0.5213 - val_accuracy: 0.7097 - val_loss: 0.5182 - val_precision: 0.6842 - val_recall: 0.5200\n"
     ]
    },
    {
     "data": {
      "text/plain": [
       "<keras.src.callbacks.history.History at 0x1d888d19b10>"
      ]
     },
     "execution_count": 37,
     "metadata": {},
     "output_type": "execute_result"
    }
   ],
   "source": [
    "#Training the model\n",
    "\n",
    "model.fit(x_train, y_train, epochs=100, verbose=2, batch_size=32, validation_split= 0.1)"
   ]
  },
  {
   "cell_type": "code",
   "execution_count": 40,
   "metadata": {},
   "outputs": [
    {
     "name": "stdout",
     "output_type": "stream",
     "text": [
      "\u001b[1m154/154\u001b[0m \u001b[32m━━━━━━━━━━━━━━━━━━━━\u001b[0m\u001b[37m\u001b[0m \u001b[1m0s\u001b[0m 2ms/step - accuracy: 0.7917 - loss: 0.5086 - precision: 0.6252 - recall: 0.5452     \n",
      "Testing Loss:  0.49981629848480225\n",
      "Testing Accuracy:  0.798701286315918\n",
      "Testing Precision:  0.760869562625885\n",
      "Testing Recall:  0.6363636255264282\n"
     ]
    }
   ],
   "source": [
    "## Evaluate on test data\n",
    "loss, accuracy, precision, recall= model.evaluate(x_test, y_test, batch_size=1)\n",
    "print(\"Testing Loss: \",loss)\n",
    "print(\"Testing Accuracy: \",accuracy)\n",
    "print(\"Testing Precision: \",precision)\n",
    "print(\"Testing Recall: \",recall)"
   ]
  },
  {
   "cell_type": "code",
   "execution_count": 41,
   "metadata": {},
   "outputs": [
    {
     "name": "stdout",
     "output_type": "stream",
     "text": [
      "\u001b[1m5/5\u001b[0m \u001b[32m━━━━━━━━━━━━━━━━━━━━\u001b[0m\u001b[37m\u001b[0m \u001b[1m0s\u001b[0m 23ms/step\n"
     ]
    }
   ],
   "source": [
    "### Evaluate on test data\n",
    "y_pred = model.predict(x_test, verbose=1)"
   ]
  },
  {
   "cell_type": "code",
   "execution_count": 43,
   "metadata": {},
   "outputs": [
    {
     "name": "stdout",
     "output_type": "stream",
     "text": [
      "Confusion Matrix is : \n",
      " [[88 11]\n",
      " [20 35]]\n",
      "--------------------------------\n",
      "Accuracy is : \n",
      " 0.7987012987012987\n",
      "--------------------------------\n",
      "Recall is : \n",
      " 0.6363636363636364\n",
      "--------------------------------\n",
      "Precsion is : \n",
      " 0.7608695652173914\n",
      "--------------------------------\n",
      "F1 score is : \n",
      " 0.693069306930693\n",
      "--------------------------------\n"
     ]
    }
   ],
   "source": [
    "from sklearn import metrics\n",
    "\n",
    "CM = metrics.confusion_matrix(y_test, y_pred.round())\n",
    "print('Confusion Matrix is : \\n', CM)\n",
    "print('--------------------------------')\n",
    "ACC = metrics.accuracy_score(y_test, y_pred.round())\n",
    "print('Accuracy is : \\n', ACC)\n",
    "print('--------------------------------')\n",
    "Rec = metrics.recall_score(y_test, y_pred.round())\n",
    "print('Recall is : \\n', Rec)\n",
    "print('--------------------------------')\n",
    "Prec = metrics.precision_score(y_test, y_pred.round())\n",
    "print('Precsion is : \\n', Prec)\n",
    "print('--------------------------------')\n",
    "F1 = metrics.f1_score(y_test, y_pred.round())\n",
    "print('F1 score is : \\n', F1)\n",
    "print('--------------------------------')"
   ]
  },
  {
   "cell_type": "code",
   "execution_count": null,
   "metadata": {},
   "outputs": [],
   "source": []
  }
 ],
 "metadata": {
  "kernelspec": {
   "display_name": "ml",
   "language": "python",
   "name": "ml"
  },
  "language_info": {
   "codemirror_mode": {
    "name": "ipython",
    "version": 3
   },
   "file_extension": ".py",
   "mimetype": "text/x-python",
   "name": "python",
   "nbconvert_exporter": "python",
   "pygments_lexer": "ipython3",
   "version": "3.11.7"
  }
 },
 "nbformat": 4,
 "nbformat_minor": 2
}
